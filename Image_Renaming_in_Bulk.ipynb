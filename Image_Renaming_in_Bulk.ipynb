{
 "cells": [
  {
   "cell_type": "code",
   "execution_count": null,
   "id": "61db6bc4",
   "metadata": {},
   "outputs": [],
   "source": [
    "import os\n",
    "os.chdir('C:\\\\Users\\\\musth\\\\Desktop\\\\Mack\\\\DataSet\\\\Train\\\\Mango') # give path\n",
    "i=1\n",
    "for file in os.listdir():\n",
    "    src=file\n",
    "    dst=\"1\"+\"_\"+str(i)+\".jpg\"\n",
    "    os.rename(src,dst)\n",
    "    i+=1\n"
   ]
  }
 ],
 "metadata": {
  "kernelspec": {
   "display_name": "Python 3",
   "language": "python",
   "name": "python3"
  },
  "language_info": {
   "codemirror_mode": {
    "name": "ipython",
    "version": 3
   },
   "file_extension": ".py",
   "mimetype": "text/x-python",
   "name": "python",
   "nbconvert_exporter": "python",
   "pygments_lexer": "ipython3",
   "version": "3.9.4"
  }
 },
 "nbformat": 4,
 "nbformat_minor": 5
}
