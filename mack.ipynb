{
  "nbformat": 4,
  "nbformat_minor": 0,
  "metadata": {
    "colab": {
      "name": "mack.ipynb",
      "provenance": [],
      "collapsed_sections": [],
      "mount_file_id": "1_6_YOL8-ZT3tGtnpUzDsRe3nrSE88gz4",
      "authorship_tag": "ABX9TyP/3PebXUmFDybnjFSETOdZ",
      "include_colab_link": true
    },
    "kernelspec": {
      "name": "python3",
      "display_name": "Python 3"
    },
    "language_info": {
      "name": "python"
    },
    "accelerator": "GPU"
  },
  "cells": [
    {
      "cell_type": "markdown",
      "metadata": {
        "id": "view-in-github",
        "colab_type": "text"
      },
      "source": [
        "<a href=\"https://colab.research.google.com/github/musthafavakkayil/Mack/blob/main/mack.ipynb\" target=\"_parent\"><img src=\"https://colab.research.google.com/assets/colab-badge.svg\" alt=\"Open In Colab\"/></a>"
      ]
    },
    {
      "cell_type": "code",
      "metadata": {
        "id": "9xrmYbt4XRD7"
      },
      "source": [
        ""
      ],
      "execution_count": null,
      "outputs": []
    },
    {
      "cell_type": "markdown",
      "metadata": {
        "id": "9hcYkY3iXOKl"
      },
      "source": [
        "**TRAINING THE MODEL**\n",
        "\n"
      ]
    },
    {
      "cell_type": "code",
      "metadata": {
        "id": "odH5naj_9ca5"
      },
      "source": [
        "#install keras and tensorflow packages\n",
        "#import the required packages\n",
        "from keras.models import Sequential\n",
        "from keras.layers import Conv2D\n",
        "from keras.layers import MaxPooling2D\n",
        "from keras.layers import Flatten\n",
        "from keras.layers import Dense\n",
        "from keras.preprocessing.image import ImageDataGenerator"
      ],
      "execution_count": null,
      "outputs": []
    },
    {
      "cell_type": "code",
      "metadata": {
        "id": "IOwSjhUOAl_O"
      },
      "source": [
        "#creating the required model\n",
        "model = Sequential()\n",
        "model.add(Conv2D(32, (3, 3), input_shape = (64, 64, 3), activation = 'relu'))\n",
        "model.add(MaxPooling2D(pool_size = (2, 2)))\n",
        "model.add(Flatten())\n",
        "model.add(Dense(units = 128, activation = 'relu'))\n",
        "model.add(Dense(units = 1, activation = 'sigmoid'))"
      ],
      "execution_count": null,
      "outputs": []
    },
    {
      "cell_type": "code",
      "metadata": {
        "id": "_hRoftUUAwhd"
      },
      "source": [
        "model.compile(optimizer = 'adam', loss = 'binary_crossentropy', metrics = ['accuracy'])\n"
      ],
      "execution_count": null,
      "outputs": []
    },
    {
      "cell_type": "code",
      "metadata": {
        "colab": {
          "base_uri": "https://localhost:8080/"
        },
        "id": "GMy55MiMA5nh",
        "outputId": "fd0c4115-a4b0-4978-a39c-327d24001fb7"
      },
      "source": [
        "#training and validating the dataset\n",
        "train_datagen = ImageDataGenerator(rescale = 1./255,\n",
        "                                   shear_range = 0.2,\n",
        "                                   zoom_range = 0.2,\n",
        "                                   horizontal_flip = True)\n",
        "val_datagen = ImageDataGenerator(rescale = 1./255)\n",
        "#training\n",
        "training_set = train_datagen.flow_from_directory('/content/drive/MyDrive/BFH-Mack project/DataSet/Train',\n",
        "                                                 target_size = (64, 64),\n",
        "                                                 batch_size = 8,\n",
        "                                                 class_mode = 'binary')\n",
        "#validating\n",
        "val_set = val_datagen.flow_from_directory('/content/drive/MyDrive/BFH-Mack project/DataSet/Val',\n",
        "                                            target_size = (64, 64),\n",
        "                                            batch_size = 8,\n",
        "                                            class_mode = 'binary')\n"
      ],
      "execution_count": null,
      "outputs": [
        {
          "output_type": "stream",
          "text": [
            "Found 120 images belonging to 2 classes.\n",
            "Found 111 images belonging to 2 classes.\n"
          ],
          "name": "stdout"
        }
      ]
    },
    {
      "cell_type": "code",
      "metadata": {
        "id": "S8l-jMjitMSd",
        "colab": {
          "base_uri": "https://localhost:8080/"
        },
        "outputId": "cd18d978-0095-4435-c50d-eb3daf881cc4"
      },
      "source": [
        "#training the model and obtaining accuracy\n",
        "model.fit_generator(training_set,\n",
        "                         steps_per_epoch = 10,\n",
        "                         epochs = 50,\n",
        "                         validation_data = val_set,\n",
        "                         validation_steps = 2)\n"
      ],
      "execution_count": null,
      "outputs": [
        {
          "output_type": "stream",
          "text": [
            "/usr/local/lib/python3.7/dist-packages/tensorflow/python/keras/engine/training.py:1844: UserWarning: `Model.fit_generator` is deprecated and will be removed in a future version. Please use `Model.fit`, which supports generators.\n",
            "  warnings.warn('`Model.fit_generator` is deprecated and '\n"
          ],
          "name": "stderr"
        },
        {
          "output_type": "stream",
          "text": [
            "Epoch 1/50\n",
            " 8/10 [=======================>......] - ETA: 7s - loss: 2.2912 - accuracy: 0.4350 "
          ],
          "name": "stdout"
        },
        {
          "output_type": "stream",
          "text": [
            "/usr/local/lib/python3.7/dist-packages/PIL/Image.py:960: UserWarning: Palette images with Transparency expressed in bytes should be converted to RGBA images\n",
            "  \"Palette images with Transparency expressed in bytes should be \"\n"
          ],
          "name": "stderr"
        },
        {
          "output_type": "stream",
          "text": [
            "10/10 [==============================] - 81s 5s/step - loss: 2.1374 - accuracy: 0.4244 - val_loss: 0.6447 - val_accuracy: 0.6875\n",
            "Epoch 2/50\n",
            "10/10 [==============================] - 23s 2s/step - loss: 0.6587 - accuracy: 0.6595 - val_loss: 0.5454 - val_accuracy: 0.8125\n",
            "Epoch 3/50\n",
            "10/10 [==============================] - 13s 1s/step - loss: 0.7037 - accuracy: 0.5201 - val_loss: 0.6999 - val_accuracy: 0.4375\n",
            "Epoch 4/50\n",
            "10/10 [==============================] - 12s 1s/step - loss: 0.6268 - accuracy: 0.8116 - val_loss: 0.5632 - val_accuracy: 0.7500\n",
            "Epoch 5/50\n",
            "10/10 [==============================] - 7s 720ms/step - loss: 0.6100 - accuracy: 0.6641 - val_loss: 0.7711 - val_accuracy: 0.5000\n",
            "Epoch 6/50\n",
            "10/10 [==============================] - 5s 572ms/step - loss: 0.5679 - accuracy: 0.7663 - val_loss: 0.6023 - val_accuracy: 0.6250\n",
            "Epoch 7/50\n",
            "10/10 [==============================] - 7s 715ms/step - loss: 0.4761 - accuracy: 0.8237 - val_loss: 0.7479 - val_accuracy: 0.5000\n",
            "Epoch 8/50\n",
            "10/10 [==============================] - 4s 437ms/step - loss: 0.4962 - accuracy: 0.7724 - val_loss: 0.5199 - val_accuracy: 0.7500\n",
            "Epoch 9/50\n",
            "10/10 [==============================] - 5s 583ms/step - loss: 0.4174 - accuracy: 0.8332 - val_loss: 1.0708 - val_accuracy: 0.4375\n",
            "Epoch 10/50\n",
            "10/10 [==============================] - 5s 514ms/step - loss: 0.4019 - accuracy: 0.8561 - val_loss: 0.6540 - val_accuracy: 0.6250\n",
            "Epoch 11/50\n",
            "10/10 [==============================] - 4s 429ms/step - loss: 0.5978 - accuracy: 0.7678 - val_loss: 0.3666 - val_accuracy: 0.8125\n",
            "Epoch 12/50\n",
            "10/10 [==============================] - 3s 336ms/step - loss: 0.3553 - accuracy: 0.8401 - val_loss: 0.4918 - val_accuracy: 0.8750\n",
            "Epoch 13/50\n",
            "10/10 [==============================] - 2s 260ms/step - loss: 0.4550 - accuracy: 0.8250 - val_loss: 0.9754 - val_accuracy: 0.6875\n",
            "Epoch 14/50\n",
            "10/10 [==============================] - 4s 423ms/step - loss: 0.4329 - accuracy: 0.7718 - val_loss: 0.1677 - val_accuracy: 1.0000\n",
            "Epoch 15/50\n",
            "10/10 [==============================] - 3s 367ms/step - loss: 0.2745 - accuracy: 0.8721 - val_loss: 0.6412 - val_accuracy: 0.6875\n",
            "Epoch 16/50\n",
            "10/10 [==============================] - 3s 329ms/step - loss: 0.3319 - accuracy: 0.8411 - val_loss: 0.7409 - val_accuracy: 0.7500\n",
            "Epoch 17/50\n",
            "10/10 [==============================] - 3s 290ms/step - loss: 0.3411 - accuracy: 0.8471 - val_loss: 0.5621 - val_accuracy: 0.6875\n",
            "Epoch 18/50\n",
            "10/10 [==============================] - 2s 254ms/step - loss: 0.5163 - accuracy: 0.7230 - val_loss: 0.9000 - val_accuracy: 0.6250\n",
            "Epoch 19/50\n",
            "10/10 [==============================] - 2s 182ms/step - loss: 0.5442 - accuracy: 0.7072 - val_loss: 0.5542 - val_accuracy: 0.7500\n",
            "Epoch 20/50\n",
            "10/10 [==============================] - 2s 229ms/step - loss: 0.2668 - accuracy: 0.8851 - val_loss: 0.7669 - val_accuracy: 0.6875\n",
            "Epoch 21/50\n",
            "10/10 [==============================] - 2s 221ms/step - loss: 0.2692 - accuracy: 0.8836 - val_loss: 0.2866 - val_accuracy: 0.9375\n",
            "Epoch 22/50\n",
            "10/10 [==============================] - 3s 326ms/step - loss: 0.2958 - accuracy: 0.8983 - val_loss: 0.9601 - val_accuracy: 0.5625\n",
            "Epoch 23/50\n",
            "10/10 [==============================] - 3s 271ms/step - loss: 0.1643 - accuracy: 0.9527 - val_loss: 0.5904 - val_accuracy: 0.8125\n",
            "Epoch 24/50\n",
            "10/10 [==============================] - 2s 198ms/step - loss: 0.2471 - accuracy: 0.9139 - val_loss: 0.4916 - val_accuracy: 0.8125\n",
            "Epoch 25/50\n",
            "10/10 [==============================] - 3s 295ms/step - loss: 0.1991 - accuracy: 0.9538 - val_loss: 0.3587 - val_accuracy: 0.8750\n",
            "Epoch 26/50\n",
            "10/10 [==============================] - 2s 264ms/step - loss: 0.2291 - accuracy: 0.9139 - val_loss: 0.6585 - val_accuracy: 0.6875\n",
            "Epoch 27/50\n",
            "10/10 [==============================] - 2s 258ms/step - loss: 0.1761 - accuracy: 0.9381 - val_loss: 0.6517 - val_accuracy: 0.6875\n",
            "Epoch 28/50\n",
            "10/10 [==============================] - 3s 281ms/step - loss: 0.2985 - accuracy: 0.9026 - val_loss: 0.4646 - val_accuracy: 0.8125\n",
            "Epoch 29/50\n",
            "10/10 [==============================] - 2s 225ms/step - loss: 0.2382 - accuracy: 0.8709 - val_loss: 0.7996 - val_accuracy: 0.6250\n",
            "Epoch 30/50\n",
            "10/10 [==============================] - 3s 289ms/step - loss: 0.2582 - accuracy: 0.9324 - val_loss: 0.8886 - val_accuracy: 0.5625\n",
            "Epoch 31/50\n",
            "10/10 [==============================] - 2s 255ms/step - loss: 0.1872 - accuracy: 0.9286 - val_loss: 0.8455 - val_accuracy: 0.5625\n",
            "Epoch 32/50\n",
            "10/10 [==============================] - 2s 252ms/step - loss: 0.2085 - accuracy: 0.9346 - val_loss: 0.8830 - val_accuracy: 0.7500\n",
            "Epoch 33/50\n",
            "10/10 [==============================] - 2s 236ms/step - loss: 0.1461 - accuracy: 0.9334 - val_loss: 0.3836 - val_accuracy: 0.8750\n",
            "Epoch 34/50\n",
            "10/10 [==============================] - 3s 271ms/step - loss: 0.1349 - accuracy: 0.9584 - val_loss: 0.8341 - val_accuracy: 0.6875\n",
            "Epoch 35/50\n",
            "10/10 [==============================] - 2s 253ms/step - loss: 0.1543 - accuracy: 0.9414 - val_loss: 0.5669 - val_accuracy: 0.8125\n",
            "Epoch 36/50\n",
            "10/10 [==============================] - 3s 302ms/step - loss: 0.1584 - accuracy: 0.9527 - val_loss: 0.5769 - val_accuracy: 0.8750\n",
            "Epoch 37/50\n",
            "10/10 [==============================] - 2s 250ms/step - loss: 0.1480 - accuracy: 1.0000 - val_loss: 1.2493 - val_accuracy: 0.6875\n",
            "Epoch 38/50\n",
            "10/10 [==============================] - 3s 285ms/step - loss: 0.2098 - accuracy: 0.9275 - val_loss: 0.7055 - val_accuracy: 0.7500\n",
            "Epoch 39/50\n",
            "10/10 [==============================] - 3s 333ms/step - loss: 0.1235 - accuracy: 0.9520 - val_loss: 0.4955 - val_accuracy: 0.7500\n",
            "Epoch 40/50\n",
            "10/10 [==============================] - 2s 245ms/step - loss: 0.0822 - accuracy: 0.9849 - val_loss: 0.9650 - val_accuracy: 0.8125\n",
            "Epoch 41/50\n",
            "10/10 [==============================] - 3s 258ms/step - loss: 0.1998 - accuracy: 0.9447 - val_loss: 0.9108 - val_accuracy: 0.6250\n",
            "Epoch 42/50\n",
            "10/10 [==============================] - 2s 251ms/step - loss: 0.1312 - accuracy: 0.9425 - val_loss: 0.3765 - val_accuracy: 0.8750\n",
            "Epoch 43/50\n",
            "10/10 [==============================] - 3s 364ms/step - loss: 0.0583 - accuracy: 1.0000 - val_loss: 0.9420 - val_accuracy: 0.6250\n",
            "Epoch 44/50\n",
            "10/10 [==============================] - 2s 254ms/step - loss: 0.0615 - accuracy: 0.9866 - val_loss: 0.6421 - val_accuracy: 0.6875\n",
            "Epoch 45/50\n",
            "10/10 [==============================] - 3s 304ms/step - loss: 0.1202 - accuracy: 0.9564 - val_loss: 0.4459 - val_accuracy: 0.8750\n",
            "Epoch 46/50\n",
            "10/10 [==============================] - 3s 299ms/step - loss: 0.4530 - accuracy: 0.7426 - val_loss: 2.5701 - val_accuracy: 0.5000\n",
            "Epoch 47/50\n",
            "10/10 [==============================] - 3s 290ms/step - loss: 0.4113 - accuracy: 0.7384 - val_loss: 0.3269 - val_accuracy: 0.8750\n",
            "Epoch 48/50\n",
            "10/10 [==============================] - 2s 207ms/step - loss: 0.2828 - accuracy: 0.8787 - val_loss: 0.4850 - val_accuracy: 0.7500\n",
            "Epoch 49/50\n",
            "10/10 [==============================] - 2s 226ms/step - loss: 0.1288 - accuracy: 0.9831 - val_loss: 0.4388 - val_accuracy: 0.8125\n",
            "Epoch 50/50\n",
            "10/10 [==============================] - 2s 241ms/step - loss: 0.0830 - accuracy: 0.9965 - val_loss: 1.1744 - val_accuracy: 0.6875\n"
          ],
          "name": "stdout"
        },
        {
          "output_type": "execute_result",
          "data": {
            "text/plain": [
              "<tensorflow.python.keras.callbacks.History at 0x7f3e60150990>"
            ]
          },
          "metadata": {
            "tags": []
          },
          "execution_count": 5
        }
      ]
    },
    {
      "cell_type": "code",
      "metadata": {
        "id": "5KgXWPHlzoev"
      },
      "source": [
        "import tensorflow as tf "
      ],
      "execution_count": null,
      "outputs": []
    },
    {
      "cell_type": "code",
      "metadata": {
        "id": "hRJWoyq6xPiS"
      },
      "source": [
        "#saving the trained model\n",
        "tf.keras.models.save_model(model,'my_model.hdf5')"
      ],
      "execution_count": null,
      "outputs": []
    },
    {
      "cell_type": "markdown",
      "metadata": {
        "id": "puc43_zyYynR"
      },
      "source": [
        "**Testing the trained model**"
      ]
    },
    {
      "cell_type": "code",
      "metadata": {
        "id": "zqMpxWmwAU_d"
      },
      "source": [
        "import numpy as np\n",
        "from keras.preprocessing import image\n"
      ],
      "execution_count": null,
      "outputs": []
    },
    {
      "cell_type": "code",
      "metadata": {
        "id": "yjSkGBezAbkl"
      },
      "source": [
        "model=tf.keras.models.load_model('/content/my_model.hdf5')"
      ],
      "execution_count": null,
      "outputs": []
    },
    {
      "cell_type": "code",
      "metadata": {
        "id": "bOtR7IvhByxk"
      },
      "source": [
        "#function to give the output for each prediction\n",
        "def classify(img_file):\n",
        "    img_name = img_file\n",
        "    test_image = image.load_img(img_name, target_size = (64, 64))\n",
        "\n",
        "    test_image = image.img_to_array(test_image)\n",
        "    test_image = np.expand_dims(test_image, axis=0)\n",
        "    result = model.predict(test_image)\n",
        "\n",
        "    if result[0][0] == 1:\n",
        "        prediction = 'Mango'\n",
        "    else:\n",
        "        prediction = 'Jackfruit'\n",
        "    print(prediction,img_name)\n"
      ],
      "execution_count": null,
      "outputs": []
    },
    {
      "cell_type": "code",
      "metadata": {
        "id": "3HKSOPheCDLd"
      },
      "source": [
        "#each file in the test dataset is checked\n",
        "import os\n",
        "path = '/content/drive/MyDrive/BFH-Mack project/DataSet/Test'\n",
        "files = []\n",
        "# r=root, d=directories, f = files\n",
        "for r, d, f in os.walk(path):\n",
        "   for file in f:\n",
        "     #can change the file type to jpg,png,jpeg as required\n",
        "     if '.jpg' in file:\n",
        "       files.append(os.path.join(r, file))"
      ],
      "execution_count": null,
      "outputs": []
    },
    {
      "cell_type": "code",
      "metadata": {
        "id": "aJZoQESuEXKb"
      },
      "source": [
        "#printing prediction for each file\n",
        "for f in files:\n",
        "   classify(f)\n",
        "   print('\\n')"
      ],
      "execution_count": null,
      "outputs": []
    },
    {
      "cell_type": "markdown",
      "metadata": {
        "id": "SRD6OXVee8TY"
      },
      "source": [
        "**DEPLOYING USING STREAMLIT AND NGROK**"
      ]
    },
    {
      "cell_type": "code",
      "metadata": {
        "id": "EXwdavqfzwn4",
        "colab": {
          "base_uri": "https://localhost:8080/",
          "height": 1000
        },
        "outputId": "8ad92cbd-cf87-4d3d-d6cd-b2878ebee15e"
      },
      "source": [
        "#instal streamlit and pyngrok\n",
        "!pip install streamlit"
      ],
      "execution_count": null,
      "outputs": [
        {
          "output_type": "stream",
          "text": [
            "Collecting streamlit\n",
            "\u001b[?25l  Downloading https://files.pythonhosted.org/packages/04/11/57097e14f72a2d1b2a1bbe86c2a8bc375661bfd5c30b5e8cee7c2fad9a44/streamlit-0.82.0-py2.py3-none-any.whl (8.2MB)\n",
            "\u001b[K     |████████████████████████████████| 8.2MB 5.7MB/s \n",
            "\u001b[?25hRequirement already satisfied: numpy in /usr/local/lib/python3.7/dist-packages (from streamlit) (1.19.5)\n",
            "Requirement already satisfied: requests in /usr/local/lib/python3.7/dist-packages (from streamlit) (2.23.0)\n",
            "Requirement already satisfied: pyarrow; python_version < \"3.9\" in /usr/local/lib/python3.7/dist-packages (from streamlit) (3.0.0)\n",
            "Requirement already satisfied: toml in /usr/local/lib/python3.7/dist-packages (from streamlit) (0.10.2)\n",
            "Requirement already satisfied: protobuf!=3.11,>=3.6.0 in /usr/local/lib/python3.7/dist-packages (from streamlit) (3.12.4)\n",
            "Requirement already satisfied: pillow>=6.2.0 in /usr/local/lib/python3.7/dist-packages (from streamlit) (7.1.2)\n",
            "Collecting click<8.0,>=7.0\n",
            "\u001b[?25l  Downloading https://files.pythonhosted.org/packages/d2/3d/fa76db83bf75c4f8d338c2fd15c8d33fdd7ad23a9b5e57eb6c5de26b430e/click-7.1.2-py2.py3-none-any.whl (82kB)\n",
            "\u001b[K     |████████████████████████████████| 92kB 8.0MB/s \n",
            "\u001b[?25hRequirement already satisfied: pandas>=0.21.0 in /usr/local/lib/python3.7/dist-packages (from streamlit) (1.1.5)\n",
            "Requirement already satisfied: tzlocal in /usr/local/lib/python3.7/dist-packages (from streamlit) (1.5.1)\n",
            "Requirement already satisfied: packaging in /usr/local/lib/python3.7/dist-packages (from streamlit) (20.9)\n",
            "Collecting watchdog; platform_system != \"Darwin\"\n",
            "\u001b[?25l  Downloading https://files.pythonhosted.org/packages/f2/5b/36b3b11e557830de6fc1dc06e9aa3ee274119b8cea9cc98175dbbf72cf87/watchdog-2.1.2-py3-none-manylinux2014_x86_64.whl (74kB)\n",
            "\u001b[K     |████████████████████████████████| 81kB 9.3MB/s \n",
            "\u001b[?25hCollecting pydeck>=0.1.dev5\n",
            "\u001b[?25l  Downloading https://files.pythonhosted.org/packages/d6/bc/f0e44828e4290367c869591d50d3671a4d0ee94926da6cb734b7b200308c/pydeck-0.6.2-py2.py3-none-any.whl (4.2MB)\n",
            "\u001b[K     |████████████████████████████████| 4.2MB 38.0MB/s \n",
            "\u001b[?25hRequirement already satisfied: tornado>=5.0 in /usr/local/lib/python3.7/dist-packages (from streamlit) (5.1.1)\n",
            "Requirement already satisfied: cachetools>=4.0 in /usr/local/lib/python3.7/dist-packages (from streamlit) (4.2.2)\n",
            "Requirement already satisfied: astor in /usr/local/lib/python3.7/dist-packages (from streamlit) (0.8.1)\n",
            "Requirement already satisfied: altair>=3.2.0 in /usr/local/lib/python3.7/dist-packages (from streamlit) (4.1.0)\n",
            "Collecting blinker\n",
            "\u001b[?25l  Downloading https://files.pythonhosted.org/packages/1b/51/e2a9f3b757eb802f61dc1f2b09c8c99f6eb01cf06416c0671253536517b6/blinker-1.4.tar.gz (111kB)\n",
            "\u001b[K     |████████████████████████████████| 112kB 39.0MB/s \n",
            "\u001b[?25hCollecting base58\n",
            "  Downloading https://files.pythonhosted.org/packages/b8/a1/d9f565e9910c09fd325dc638765e8843a19fa696275c16cc08cf3b0a3c25/base58-2.1.0-py3-none-any.whl\n",
            "Collecting gitpython\n",
            "\u001b[?25l  Downloading https://files.pythonhosted.org/packages/27/da/6f6224fdfc47dab57881fe20c0d1bc3122be290198ba0bf26a953a045d92/GitPython-3.1.17-py3-none-any.whl (166kB)\n",
            "\u001b[K     |████████████████████████████████| 174kB 37.1MB/s \n",
            "\u001b[?25hRequirement already satisfied: python-dateutil in /usr/local/lib/python3.7/dist-packages (from streamlit) (2.8.1)\n",
            "Collecting validators\n",
            "  Downloading https://files.pythonhosted.org/packages/db/2f/7fed3ee94ad665ad2c1de87f858f10a7785251ff75b4fd47987888d07ef1/validators-0.18.2-py3-none-any.whl\n",
            "Requirement already satisfied: idna<3,>=2.5 in /usr/local/lib/python3.7/dist-packages (from requests->streamlit) (2.10)\n",
            "Requirement already satisfied: chardet<4,>=3.0.2 in /usr/local/lib/python3.7/dist-packages (from requests->streamlit) (3.0.4)\n",
            "Requirement already satisfied: certifi>=2017.4.17 in /usr/local/lib/python3.7/dist-packages (from requests->streamlit) (2020.12.5)\n",
            "Requirement already satisfied: urllib3!=1.25.0,!=1.25.1,<1.26,>=1.21.1 in /usr/local/lib/python3.7/dist-packages (from requests->streamlit) (1.24.3)\n",
            "Requirement already satisfied: six>=1.9 in /usr/local/lib/python3.7/dist-packages (from protobuf!=3.11,>=3.6.0->streamlit) (1.15.0)\n",
            "Requirement already satisfied: setuptools in /usr/local/lib/python3.7/dist-packages (from protobuf!=3.11,>=3.6.0->streamlit) (56.1.0)\n",
            "Requirement already satisfied: pytz>=2017.2 in /usr/local/lib/python3.7/dist-packages (from pandas>=0.21.0->streamlit) (2018.9)\n",
            "Requirement already satisfied: pyparsing>=2.0.2 in /usr/local/lib/python3.7/dist-packages (from packaging->streamlit) (2.4.7)\n",
            "Requirement already satisfied: ipywidgets>=7.0.0 in /usr/local/lib/python3.7/dist-packages (from pydeck>=0.1.dev5->streamlit) (7.6.3)\n",
            "Collecting ipykernel>=5.1.2; python_version >= \"3.4\"\n",
            "\u001b[?25l  Downloading https://files.pythonhosted.org/packages/90/6d/6c8fe4b658f77947d4244ce81f60230c4c8d1dc1a21ae83e63b269339178/ipykernel-5.5.5-py3-none-any.whl (120kB)\n",
            "\u001b[K     |████████████████████████████████| 122kB 43.6MB/s \n",
            "\u001b[?25hRequirement already satisfied: traitlets>=4.3.2 in /usr/local/lib/python3.7/dist-packages (from pydeck>=0.1.dev5->streamlit) (5.0.5)\n",
            "Requirement already satisfied: jinja2>=2.10.1 in /usr/local/lib/python3.7/dist-packages (from pydeck>=0.1.dev5->streamlit) (2.11.3)\n",
            "Requirement already satisfied: jsonschema in /usr/local/lib/python3.7/dist-packages (from altair>=3.2.0->streamlit) (2.6.0)\n",
            "Requirement already satisfied: entrypoints in /usr/local/lib/python3.7/dist-packages (from altair>=3.2.0->streamlit) (0.3)\n",
            "Requirement already satisfied: toolz in /usr/local/lib/python3.7/dist-packages (from altair>=3.2.0->streamlit) (0.11.1)\n",
            "Collecting gitdb<5,>=4.0.1\n",
            "\u001b[?25l  Downloading https://files.pythonhosted.org/packages/ea/e8/f414d1a4f0bbc668ed441f74f44c116d9816833a48bf81d22b697090dba8/gitdb-4.0.7-py3-none-any.whl (63kB)\n",
            "\u001b[K     |████████████████████████████████| 71kB 9.0MB/s \n",
            "\u001b[?25hRequirement already satisfied: typing-extensions>=3.7.4.0; python_version < \"3.8\" in /usr/local/lib/python3.7/dist-packages (from gitpython->streamlit) (3.7.4.3)\n",
            "Requirement already satisfied: decorator>=3.4.0 in /usr/local/lib/python3.7/dist-packages (from validators->streamlit) (4.4.2)\n",
            "Requirement already satisfied: nbformat>=4.2.0 in /usr/local/lib/python3.7/dist-packages (from ipywidgets>=7.0.0->pydeck>=0.1.dev5->streamlit) (5.1.3)\n",
            "Requirement already satisfied: jupyterlab-widgets>=1.0.0; python_version >= \"3.6\" in /usr/local/lib/python3.7/dist-packages (from ipywidgets>=7.0.0->pydeck>=0.1.dev5->streamlit) (1.0.0)\n",
            "Requirement already satisfied: widgetsnbextension~=3.5.0 in /usr/local/lib/python3.7/dist-packages (from ipywidgets>=7.0.0->pydeck>=0.1.dev5->streamlit) (3.5.1)\n",
            "Requirement already satisfied: ipython>=4.0.0; python_version >= \"3.3\" in /usr/local/lib/python3.7/dist-packages (from ipywidgets>=7.0.0->pydeck>=0.1.dev5->streamlit) (5.5.0)\n",
            "Requirement already satisfied: jupyter-client in /usr/local/lib/python3.7/dist-packages (from ipykernel>=5.1.2; python_version >= \"3.4\"->pydeck>=0.1.dev5->streamlit) (5.3.5)\n",
            "Requirement already satisfied: ipython-genutils in /usr/local/lib/python3.7/dist-packages (from traitlets>=4.3.2->pydeck>=0.1.dev5->streamlit) (0.2.0)\n",
            "Requirement already satisfied: MarkupSafe>=0.23 in /usr/local/lib/python3.7/dist-packages (from jinja2>=2.10.1->pydeck>=0.1.dev5->streamlit) (2.0.0)\n",
            "Collecting smmap<5,>=3.0.1\n",
            "  Downloading https://files.pythonhosted.org/packages/68/ee/d540eb5e5996eb81c26ceffac6ee49041d473bc5125f2aa995cf51ec1cf1/smmap-4.0.0-py2.py3-none-any.whl\n",
            "Requirement already satisfied: jupyter-core in /usr/local/lib/python3.7/dist-packages (from nbformat>=4.2.0->ipywidgets>=7.0.0->pydeck>=0.1.dev5->streamlit) (4.7.1)\n",
            "Requirement already satisfied: notebook>=4.4.1 in /usr/local/lib/python3.7/dist-packages (from widgetsnbextension~=3.5.0->ipywidgets>=7.0.0->pydeck>=0.1.dev5->streamlit) (5.3.1)\n",
            "Requirement already satisfied: simplegeneric>0.8 in /usr/local/lib/python3.7/dist-packages (from ipython>=4.0.0; python_version >= \"3.3\"->ipywidgets>=7.0.0->pydeck>=0.1.dev5->streamlit) (0.8.1)\n",
            "Requirement already satisfied: pickleshare in /usr/local/lib/python3.7/dist-packages (from ipython>=4.0.0; python_version >= \"3.3\"->ipywidgets>=7.0.0->pydeck>=0.1.dev5->streamlit) (0.7.5)\n",
            "Requirement already satisfied: prompt-toolkit<2.0.0,>=1.0.4 in /usr/local/lib/python3.7/dist-packages (from ipython>=4.0.0; python_version >= \"3.3\"->ipywidgets>=7.0.0->pydeck>=0.1.dev5->streamlit) (1.0.18)\n",
            "Requirement already satisfied: pexpect; sys_platform != \"win32\" in /usr/local/lib/python3.7/dist-packages (from ipython>=4.0.0; python_version >= \"3.3\"->ipywidgets>=7.0.0->pydeck>=0.1.dev5->streamlit) (4.8.0)\n",
            "Requirement already satisfied: pygments in /usr/local/lib/python3.7/dist-packages (from ipython>=4.0.0; python_version >= \"3.3\"->ipywidgets>=7.0.0->pydeck>=0.1.dev5->streamlit) (2.6.1)\n",
            "Requirement already satisfied: pyzmq>=13 in /usr/local/lib/python3.7/dist-packages (from jupyter-client->ipykernel>=5.1.2; python_version >= \"3.4\"->pydeck>=0.1.dev5->streamlit) (22.0.3)\n",
            "Requirement already satisfied: nbconvert in /usr/local/lib/python3.7/dist-packages (from notebook>=4.4.1->widgetsnbextension~=3.5.0->ipywidgets>=7.0.0->pydeck>=0.1.dev5->streamlit) (5.6.1)\n",
            "Requirement already satisfied: terminado>=0.8.1 in /usr/local/lib/python3.7/dist-packages (from notebook>=4.4.1->widgetsnbextension~=3.5.0->ipywidgets>=7.0.0->pydeck>=0.1.dev5->streamlit) (0.9.5)\n",
            "Requirement already satisfied: Send2Trash in /usr/local/lib/python3.7/dist-packages (from notebook>=4.4.1->widgetsnbextension~=3.5.0->ipywidgets>=7.0.0->pydeck>=0.1.dev5->streamlit) (1.5.0)\n",
            "Requirement already satisfied: wcwidth in /usr/local/lib/python3.7/dist-packages (from prompt-toolkit<2.0.0,>=1.0.4->ipython>=4.0.0; python_version >= \"3.3\"->ipywidgets>=7.0.0->pydeck>=0.1.dev5->streamlit) (0.2.5)\n",
            "Requirement already satisfied: ptyprocess>=0.5 in /usr/local/lib/python3.7/dist-packages (from pexpect; sys_platform != \"win32\"->ipython>=4.0.0; python_version >= \"3.3\"->ipywidgets>=7.0.0->pydeck>=0.1.dev5->streamlit) (0.7.0)\n",
            "Requirement already satisfied: testpath in /usr/local/lib/python3.7/dist-packages (from nbconvert->notebook>=4.4.1->widgetsnbextension~=3.5.0->ipywidgets>=7.0.0->pydeck>=0.1.dev5->streamlit) (0.4.4)\n",
            "Requirement already satisfied: mistune<2,>=0.8.1 in /usr/local/lib/python3.7/dist-packages (from nbconvert->notebook>=4.4.1->widgetsnbextension~=3.5.0->ipywidgets>=7.0.0->pydeck>=0.1.dev5->streamlit) (0.8.4)\n",
            "Requirement already satisfied: pandocfilters>=1.4.1 in /usr/local/lib/python3.7/dist-packages (from nbconvert->notebook>=4.4.1->widgetsnbextension~=3.5.0->ipywidgets>=7.0.0->pydeck>=0.1.dev5->streamlit) (1.4.3)\n",
            "Requirement already satisfied: bleach in /usr/local/lib/python3.7/dist-packages (from nbconvert->notebook>=4.4.1->widgetsnbextension~=3.5.0->ipywidgets>=7.0.0->pydeck>=0.1.dev5->streamlit) (3.3.0)\n",
            "Requirement already satisfied: defusedxml in /usr/local/lib/python3.7/dist-packages (from nbconvert->notebook>=4.4.1->widgetsnbextension~=3.5.0->ipywidgets>=7.0.0->pydeck>=0.1.dev5->streamlit) (0.7.1)\n",
            "Requirement already satisfied: webencodings in /usr/local/lib/python3.7/dist-packages (from bleach->nbconvert->notebook>=4.4.1->widgetsnbextension~=3.5.0->ipywidgets>=7.0.0->pydeck>=0.1.dev5->streamlit) (0.5.1)\n",
            "Building wheels for collected packages: blinker\n",
            "  Building wheel for blinker (setup.py) ... \u001b[?25l\u001b[?25hdone\n",
            "  Created wheel for blinker: filename=blinker-1.4-cp37-none-any.whl size=13448 sha256=7140ee9bcdb71a75e44295ab854f42eb61fe7b93736ed4e7386e4a26e1e542f0\n",
            "  Stored in directory: /root/.cache/pip/wheels/92/a0/00/8690a57883956a301d91cf4ec999cc0b258b01e3f548f86e89\n",
            "Successfully built blinker\n",
            "\u001b[31mERROR: google-colab 1.0.0 has requirement ipykernel~=4.10, but you'll have ipykernel 5.5.5 which is incompatible.\u001b[0m\n",
            "Installing collected packages: click, watchdog, ipykernel, pydeck, blinker, base58, smmap, gitdb, gitpython, validators, streamlit\n",
            "  Found existing installation: click 8.0.0\n",
            "    Uninstalling click-8.0.0:\n",
            "      Successfully uninstalled click-8.0.0\n",
            "  Found existing installation: ipykernel 4.10.1\n",
            "    Uninstalling ipykernel-4.10.1:\n",
            "      Successfully uninstalled ipykernel-4.10.1\n",
            "Successfully installed base58-2.1.0 blinker-1.4 click-7.1.2 gitdb-4.0.7 gitpython-3.1.17 ipykernel-5.5.5 pydeck-0.6.2 smmap-4.0.0 streamlit-0.82.0 validators-0.18.2 watchdog-2.1.2\n"
          ],
          "name": "stdout"
        },
        {
          "output_type": "display_data",
          "data": {
            "application/vnd.colab-display-data+json": {
              "pip_warning": {
                "packages": [
                  "ipykernel"
                ]
              }
            }
          },
          "metadata": {
            "tags": []
          }
        }
      ]
    },
    {
      "cell_type": "code",
      "metadata": {
        "id": "NyftwmVwiPQR",
        "colab": {
          "base_uri": "https://localhost:8080/"
        },
        "outputId": "12179cd4-9e57-42a5-ae9a-78958c889610"
      },
      "source": [
        "!pip install pyngrok"
      ],
      "execution_count": null,
      "outputs": [
        {
          "output_type": "stream",
          "text": [
            "Collecting pyngrok\n",
            "\u001b[?25l  Downloading https://files.pythonhosted.org/packages/6b/4e/a2fe095bbe17cf26424c4abcd22a0490e22d01cc628f25af5e220ddbf6f0/pyngrok-5.0.5.tar.gz (745kB)\n",
            "\u001b[K     |████████████████████████████████| 747kB 4.2MB/s \n",
            "\u001b[?25hRequirement already satisfied: PyYAML in /usr/local/lib/python3.7/dist-packages (from pyngrok) (3.13)\n",
            "Building wheels for collected packages: pyngrok\n",
            "  Building wheel for pyngrok (setup.py) ... \u001b[?25l\u001b[?25hdone\n",
            "  Created wheel for pyngrok: filename=pyngrok-5.0.5-cp37-none-any.whl size=19246 sha256=3a847db6f6bb5a1b0ca228a70227f23feb9b990cbfca18002746acde5d4606f2\n",
            "  Stored in directory: /root/.cache/pip/wheels/0c/13/64/5ebbcc22eaf53fdf5766b397c1fb17c83f5775fdccf0ea1b88\n",
            "Successfully built pyngrok\n",
            "Installing collected packages: pyngrok\n",
            "Successfully installed pyngrok-5.0.5\n"
          ],
          "name": "stdout"
        }
      ]
    },
    {
      "cell_type": "code",
      "metadata": {
        "id": "UkowCS7p2Zp7",
        "colab": {
          "base_uri": "https://localhost:8080/"
        },
        "outputId": "c2bb1a1e-8828-4766-a216-0d2dded1a882"
      },
      "source": [
        "#Web app \n",
        "%%writefile app.py\n",
        "import streamlit as st\n",
        "import tensorflow as tf\n",
        "\n",
        "st.set_option('deprecation.showfileUploaderEncoding',False)\n",
        "@st.cache(allow_output_mutation=True)\n",
        "def load_model():\n",
        "  model=tf.keras.models.load_model('/content/my_model.hdf5')\n",
        "  return model\n",
        "model=load_model()\n",
        "st.write(\"\"\"\n",
        "            Mango or Jackfruit Classifier\n",
        "         \"\"\"\n",
        "        )\n",
        "file=st.file_uploader(\"Please upload an image of mango or jackfruit\",type=[\"jpg\"])\n",
        "#import cv2\n",
        "from PIL import Image,ImageOps\n",
        "import numpy as np\n",
        "def import_and_predict(image_data,model):\n",
        "\n",
        "  size=(64,64)\n",
        "  image= ImageOps.fit(image_data,size,Image.ANTIALIAS)\n",
        "  img=np.asarray(image)\n",
        "  img_reshape=img[np.newaxis,...]\n",
        "  prediction=model.predict(img_reshape)\n",
        "  if prediction[0][0]==1:\n",
        "    preds='Mango'\n",
        "  else:\n",
        "    preds='Jackfruit'\n",
        "  return preds  \n",
        "  return prediction\n",
        "\n",
        "\n",
        "if file is None:\n",
        "  st.text(\"Please upload an image file\")\n",
        "else:\n",
        "  image=Image.open(file)\n",
        "  st.image(image,use_column_width=True)\n",
        "  predictions = import_and_predict(image,model)\n",
        "  #class_names=['Mango','Jackfruit']\n",
        "  string=\"This image is most likely:\"+predictions\n",
        "  st.success(string)\n"
      ],
      "execution_count": null,
      "outputs": [
        {
          "output_type": "stream",
          "text": [
            "Writing app.py\n"
          ],
          "name": "stdout"
        }
      ]
    },
    {
      "cell_type": "code",
      "metadata": {
        "id": "6x-gUCryih3j"
      },
      "source": [
        "!ls"
      ],
      "execution_count": null,
      "outputs": []
    },
    {
      "cell_type": "code",
      "metadata": {
        "id": "Zilu3NWFNDz8",
        "colab": {
          "base_uri": "https://localhost:8080/"
        },
        "outputId": "ccfa4be3-b245-4e58-e0ec-a27ef4cb8d25"
      },
      "source": [
        "#enter your ngrok authentication code \n",
        "!ngrok authtoken 1skdSDBomeqvZmVpP1ZWEeDZWEg_Cdd5rrie5qVG7Wfv2AZi"
      ],
      "execution_count": null,
      "outputs": [
        {
          "output_type": "stream",
          "text": [
            "Authtoken saved to configuration file: /root/.ngrok2/ngrok.yml\n"
          ],
          "name": "stdout"
        }
      ]
    },
    {
      "cell_type": "code",
      "metadata": {
        "id": "6DePlvznixqX"
      },
      "source": [
        "#import ngrok from pyngrok\n",
        "from pyngrok import ngrok"
      ],
      "execution_count": null,
      "outputs": []
    },
    {
      "cell_type": "code",
      "metadata": {
        "id": "FOIcfV0tNl4G"
      },
      "source": [
        "!streamlit run --server.port 80 app.py&>/dev/null&"
      ],
      "execution_count": null,
      "outputs": []
    },
    {
      "cell_type": "code",
      "metadata": {
        "id": "M0fhL0sOfh4P"
      },
      "source": [
        "!pgrep streamlit"
      ],
      "execution_count": null,
      "outputs": []
    },
    {
      "cell_type": "code",
      "metadata": {
        "id": "UuGoy0e6fuFB"
      },
      "source": [
        "#obtaining public url\n",
        "url=ngrok.connect(port='8501')"
      ],
      "execution_count": null,
      "outputs": []
    },
    {
      "cell_type": "code",
      "metadata": {
        "id": "ZZsSe0ljjCWf",
        "colab": {
          "base_uri": "https://localhost:8080/"
        },
        "outputId": "3656a7e6-b668-426b-b5e2-f826c9d0017f"
      },
      "source": [
        "url"
      ],
      "execution_count": null,
      "outputs": [
        {
          "output_type": "execute_result",
          "data": {
            "text/plain": [
              "<NgrokTunnel: \"http://4fff96511f6c.ngrok.io\" -> \"http://localhost:80\">"
            ]
          },
          "metadata": {
            "tags": []
          },
          "execution_count": 16
        }
      ]
    }
  ]
}