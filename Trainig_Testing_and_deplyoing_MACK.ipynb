{
  "nbformat": 4,
  "nbformat_minor": 0,
  "metadata": {
    "colab": {
      "name": "mack.ipynb",
      "provenance": [],
      "collapsed_sections": [],
      "mount_file_id": "1_6_YOL8-ZT3tGtnpUzDsRe3nrSE88gz4",
      "authorship_tag": "ABX9TyOgBaJt/Sdx/SXE+O8riSjs",
      "include_colab_link": true
    },
    "kernelspec": {
      "name": "python3",
      "display_name": "Python 3"
    },
    "language_info": {
      "name": "python"
    },
    "accelerator": "GPU"
  },
  "cells": [
    {
      "cell_type": "markdown",
      "metadata": {
        "id": "view-in-github",
        "colab_type": "text"
      },
      "source": [
        "<a href=\"https://colab.research.google.com/github/musthafavakkayil/Mack/blob/main/Trainig_Testing_and_deplyoing_MACK.ipynb\" target=\"_parent\"><img src=\"https://colab.research.google.com/assets/colab-badge.svg\" alt=\"Open In Colab\"/></a>"
      ]
    },
    {
      "cell_type": "code",
      "metadata": {
        "id": "9xrmYbt4XRD7"
      },
      "source": [
        ""
      ],
      "execution_count": null,
      "outputs": []
    },
    {
      "cell_type": "markdown",
      "metadata": {
        "id": "9hcYkY3iXOKl"
      },
      "source": [
        "**TRAINING THE MODEL**\n",
        "\n"
      ]
    },
    {
      "cell_type": "code",
      "metadata": {
        "id": "odH5naj_9ca5"
      },
      "source": [
        "#install keras and tensorflow packages\n",
        "#import the required packages\n",
        "from keras.models import Sequential\n",
        "from keras.layers import Conv2D\n",
        "from keras.layers import MaxPooling2D\n",
        "from keras.layers import Flatten\n",
        "from keras.layers import Dense\n",
        "from keras.preprocessing.image import ImageDataGenerator"
      ],
      "execution_count": 2,
      "outputs": []
    },
    {
      "cell_type": "code",
      "metadata": {
        "id": "IOwSjhUOAl_O"
      },
      "source": [
        "#creating the required model\n",
        "model = Sequential()\n",
        "model.add(Conv2D(32, (3, 3), input_shape = (64, 64, 3), activation = 'relu'))\n",
        "model.add(MaxPooling2D(pool_size = (2, 2)))\n",
        "model.add(Flatten())\n",
        "model.add(Dense(units = 128, activation = 'relu'))\n",
        "model.add(Dense(units = 1, activation = 'sigmoid'))"
      ],
      "execution_count": 3,
      "outputs": []
    },
    {
      "cell_type": "code",
      "metadata": {
        "id": "_hRoftUUAwhd"
      },
      "source": [
        "model.compile(optimizer = 'adam', loss = 'binary_crossentropy', metrics = ['accuracy'])\n"
      ],
      "execution_count": 4,
      "outputs": []
    },
    {
      "cell_type": "code",
      "metadata": {
        "colab": {
          "base_uri": "https://localhost:8080/"
        },
        "id": "GMy55MiMA5nh",
        "outputId": "b0d0f42b-52ab-424c-d369-adb18ed747d1"
      },
      "source": [
        "#training and validating the dataset\n",
        "train_datagen = ImageDataGenerator(rescale = 1./255,\n",
        "                                   shear_range = 0.2,\n",
        "                                   zoom_range = 0.2,\n",
        "                                   horizontal_flip = True)\n",
        "val_datagen = ImageDataGenerator(rescale = 1./255)\n",
        "#training\n",
        "training_set = train_datagen.flow_from_directory('/content/drive/MyDrive/BFH-Mack project/DataSet/Train',\n",
        "                                                 target_size = (64, 64),\n",
        "                                                 batch_size = 8,\n",
        "                                                 class_mode = 'binary')\n",
        "#validating\n",
        "val_set = val_datagen.flow_from_directory('/content/drive/MyDrive/BFH-Mack project/DataSet/Val',\n",
        "                                            target_size = (64, 64),\n",
        "                                            batch_size = 8,\n",
        "                                            class_mode = 'binary')\n"
      ],
      "execution_count": 6,
      "outputs": [
        {
          "output_type": "stream",
          "text": [
            "Found 120 images belonging to 2 classes.\n",
            "Found 111 images belonging to 2 classes.\n"
          ],
          "name": "stdout"
        }
      ]
    },
    {
      "cell_type": "code",
      "metadata": {
        "id": "S8l-jMjitMSd"
      },
      "source": [
        "#training the model and obtaining accuracy\n",
        "model.fit_generator(training_set,\n",
        "                         steps_per_epoch = 10,\n",
        "                         epochs = 50,\n",
        "                         validation_data = val_set,\n",
        "                         validation_steps = 2)\n"
      ],
      "execution_count": null,
      "outputs": []
    },
    {
      "cell_type": "code",
      "metadata": {
        "id": "5KgXWPHlzoev"
      },
      "source": [
        "import tensorflow as tf "
      ],
      "execution_count": 8,
      "outputs": []
    },
    {
      "cell_type": "code",
      "metadata": {
        "id": "hRJWoyq6xPiS"
      },
      "source": [
        "#saving the trained model\n",
        "tf.keras.models.save_model(model,'my_model.hdf5')"
      ],
      "execution_count": 9,
      "outputs": []
    },
    {
      "cell_type": "markdown",
      "metadata": {
        "id": "puc43_zyYynR"
      },
      "source": [
        "**Testing the trained model**"
      ]
    },
    {
      "cell_type": "code",
      "metadata": {
        "id": "zqMpxWmwAU_d"
      },
      "source": [
        "import numpy as np\n",
        "from keras.preprocessing import image\n"
      ],
      "execution_count": 10,
      "outputs": []
    },
    {
      "cell_type": "code",
      "metadata": {
        "id": "yjSkGBezAbkl"
      },
      "source": [
        "model=tf.keras.models.load_model('/content/my_model.hdf5')"
      ],
      "execution_count": 11,
      "outputs": []
    },
    {
      "cell_type": "code",
      "metadata": {
        "id": "bOtR7IvhByxk"
      },
      "source": [
        "#function to give the output for each prediction\n",
        "def classify(img_file):\n",
        "    img_name = img_file\n",
        "    test_image = image.load_img(img_name, target_size = (64, 64))\n",
        "\n",
        "    test_image = image.img_to_array(test_image)\n",
        "    test_image = np.expand_dims(test_image, axis=0)\n",
        "    result = model.predict(test_image)\n",
        "\n",
        "    if result[0][0] == 1:\n",
        "        prediction = 'Mango'\n",
        "    else:\n",
        "        prediction = 'Jackfruit'\n",
        "    print(prediction,img_name)\n"
      ],
      "execution_count": 12,
      "outputs": []
    },
    {
      "cell_type": "code",
      "metadata": {
        "id": "3HKSOPheCDLd"
      },
      "source": [
        "#each file in the test dataset is checked\n",
        "import os\n",
        "path = '/content/drive/MyDrive/BFH-Mack project/DataSet/Test'\n",
        "files = []\n",
        "# r=root, d=directories, f = files\n",
        "for r, d, f in os.walk(path):\n",
        "   for file in f:\n",
        "     #can change the file type to jpg,png,jpeg as required\n",
        "     if '.jpg' in file:\n",
        "       files.append(os.path.join(r, file))"
      ],
      "execution_count": 13,
      "outputs": []
    },
    {
      "cell_type": "code",
      "metadata": {
        "id": "aJZoQESuEXKb"
      },
      "source": [
        "#printing prediction for each file\n",
        "for f in files:\n",
        "   classify(f)\n",
        "   print('\\n')"
      ],
      "execution_count": null,
      "outputs": []
    },
    {
      "cell_type": "markdown",
      "metadata": {
        "id": "SRD6OXVee8TY"
      },
      "source": [
        "**DEPLOYING USING STREAMLIT AND NGROK**"
      ]
    },
    {
      "cell_type": "code",
      "metadata": {
        "id": "EXwdavqfzwn4"
      },
      "source": [
        "#instal streamlit and pyngrok\n",
        "!pip install streamlit"
      ],
      "execution_count": null,
      "outputs": []
    },
    {
      "cell_type": "code",
      "metadata": {
        "id": "NyftwmVwiPQR"
      },
      "source": [
        "!pip install pyngrok"
      ],
      "execution_count": null,
      "outputs": []
    },
    {
      "cell_type": "code",
      "metadata": {
        "id": "UkowCS7p2Zp7"
      },
      "source": [
        "#Web app \n",
        "%%writefile app.py\n",
        "import streamlit as st\n",
        "import tensorflow as tf\n",
        "\n",
        "st.set_option('deprecation.showfileUploaderEncoding',False)\n",
        "@st.cache(allow_output_mutation=True)\n",
        "def load_model():\n",
        "  model=tf.keras.models.load_model('/content/my_model.hdf5')\n",
        "  return model\n",
        "model=load_model()\n",
        "st.write(\"\"\"\n",
        "            Mango or Jackfruit Classifier\n",
        "         \"\"\"\n",
        "        )\n",
        "file=st.file_uploader(\"Please upload an image of mango or jackfruit\",type=[\"jpg\"])\n",
        "#import cv2\n",
        "from PIL import Image,ImageOps\n",
        "import numpy as np\n",
        "def import_and_predict(image_data,model):\n",
        "\n",
        "  size=(64,64)\n",
        "  image= ImageOps.fit(image_data,size,Image.ANTIALIAS)\n",
        "  img=np.asarray(image)\n",
        "  img_reshape=img[np.newaxis,...]\n",
        "  prediction=model.predict(img_reshape)\n",
        "  if prediction[0][0]==1:\n",
        "    preds='Mango'\n",
        "  else:\n",
        "    preds='Jackfruit'\n",
        "  return preds  \n",
        "  return prediction\n",
        "\n",
        "\n",
        "if file is None:\n",
        "  st.text(\"Please upload an image file\")\n",
        "else:\n",
        "  image=Image.open(file)\n",
        "  st.image(image,use_column_width=True)\n",
        "  predictions = import_and_predict(image,model)\n",
        "  #class_names=['Mango','Jackfruit']\n",
        "  string=\"This image is most likely:\"+predictions\n",
        "  st.success(string)\n"
      ],
      "execution_count": null,
      "outputs": []
    },
    {
      "cell_type": "code",
      "metadata": {
        "id": "6x-gUCryih3j"
      },
      "source": [
        "!ls"
      ],
      "execution_count": null,
      "outputs": []
    },
    {
      "cell_type": "code",
      "metadata": {
        "id": "Zilu3NWFNDz8"
      },
      "source": [
        "#enter your ngrok authentication code \n",
        "!ngrok authtoken XXXXXX"
      ],
      "execution_count": null,
      "outputs": []
    },
    {
      "cell_type": "code",
      "metadata": {
        "id": "6DePlvznixqX"
      },
      "source": [
        "#import ngrok from pyngrok\n",
        "from pyngrok import ngrok"
      ],
      "execution_count": 41,
      "outputs": []
    },
    {
      "cell_type": "code",
      "metadata": {
        "id": "FOIcfV0tNl4G"
      },
      "source": [
        "!streamlit run --server.port 80 app.py&>/dev/null&"
      ],
      "execution_count": 45,
      "outputs": []
    },
    {
      "cell_type": "code",
      "metadata": {
        "id": "M0fhL0sOfh4P"
      },
      "source": [
        "!pgrep streamlit"
      ],
      "execution_count": null,
      "outputs": []
    },
    {
      "cell_type": "code",
      "metadata": {
        "id": "UuGoy0e6fuFB"
      },
      "source": [
        "#obtaining public url\n",
        "url=ngrok.connect(port='8501')"
      ],
      "execution_count": null,
      "outputs": []
    },
    {
      "cell_type": "code",
      "metadata": {
        "id": "ZZsSe0ljjCWf"
      },
      "source": [
        "url"
      ],
      "execution_count": null,
      "outputs": []
    }
  ]
}