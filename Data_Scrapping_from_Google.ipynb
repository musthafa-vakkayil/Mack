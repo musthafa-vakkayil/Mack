{
 "cells": [
  {
   "cell_type": "code",
   "execution_count": null,
   "id": "f9eb58c7",
   "metadata": {},
   "outputs": [],
   "source": [
    "# install  \"simple_image_download\" package using - pip install simple_image_download"
   ]
  },
  {
   "cell_type": "code",
   "execution_count": null,
   "id": "713c4acf",
   "metadata": {},
   "outputs": [],
   "source": [
    "# importing package\n",
    "from simple_image_download import simple_image_download as sim"
   ]
  },
  {
   "cell_type": "code",
   "execution_count": null,
   "id": "3d94ba31",
   "metadata": {},
   "outputs": [],
   "source": [
    "# collecting mango images from google\n",
    "response = sim.simple_image_download\n",
    "\n",
    "response().download('Mango', 120) # (keyword - data, number)"
   ]
  },
  {
   "cell_type": "code",
   "execution_count": null,
   "id": "9562c6f7",
   "metadata": {},
   "outputs": [],
   "source": [
    "# collecting JacKFruit images from google\n",
    "response = sim.simple_image_download\n",
    "\n",
    "response().download('JackFruit', 120) # (keyword - data, number)"
   ]
  }
 ],
 "metadata": {
  "kernelspec": {
   "display_name": "Python 3",
   "language": "python",
   "name": "python3"
  },
  "language_info": {
   "codemirror_mode": {
    "name": "ipython",
    "version": 3
   },
   "file_extension": ".py",
   "mimetype": "text/x-python",
   "name": "python",
   "nbconvert_exporter": "python",
   "pygments_lexer": "ipython3",
   "version": "3.9.4"
  }
 },
 "nbformat": 4,
 "nbformat_minor": 5
}
